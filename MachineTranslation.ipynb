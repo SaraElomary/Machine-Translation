{
  "nbformat": 4,
  "nbformat_minor": 0,
  "metadata": {
    "colab": {
      "provenance": [],
      "machine_shape": "hm"
    },
    "kernelspec": {
      "name": "python3",
      "display_name": "Python 3"
    },
    "accelerator": "GPU"
  },
  "cells": [
    {
      "cell_type": "code",
      "metadata": {
        "id": "GE35VGQQOuMj",
        "outputId": "813ad6eb-ef7d-4c21-bef7-e0e6c7741744",
        "colab": {
          "base_uri": "https://localhost:8080/",
          "height": 122
        }
      },
      "source": [
        "from google.colab import drive\n",
        "drive.mount('/content/drive')"
      ],
      "execution_count": null,
      "outputs": [
        {
          "output_type": "stream",
          "text": [
            "Go to this URL in a browser: https://accounts.google.com/o/oauth2/auth?client_id=947318989803-6bn6qk8qdgf4n4g3pfee6491hc0brc4i.apps.googleusercontent.com&redirect_uri=urn%3aietf%3awg%3aoauth%3a2.0%3aoob&response_type=code&scope=email%20https%3a%2f%2fwww.googleapis.com%2fauth%2fdocs.test%20https%3a%2f%2fwww.googleapis.com%2fauth%2fdrive%20https%3a%2f%2fwww.googleapis.com%2fauth%2fdrive.photos.readonly%20https%3a%2f%2fwww.googleapis.com%2fauth%2fpeopleapi.readonly\n",
            "\n",
            "Enter your authorization code:\n",
            "··········\n",
            "Mounted at /content/drive\n"
          ],
          "name": "stdout"
        }
      ]
    },
    {
      "cell_type": "code",
      "metadata": {
        "id": "hBEWP0_EsAAG",
        "outputId": "b0e3c39a-5588-4d77-c520-db9b20a1c876",
        "colab": {
          "base_uri": "https://localhost:8080/",
          "height": 374
        }
      },
      "source": [
        "import string\n",
        "import re\n",
        "from pickle import dump\n",
        "import unicodedata as ud\n",
        "from numpy import array\n",
        "# load doc into memory\n",
        "def load_doc(filename):\n",
        "\t# open the file as read only\n",
        "\tfile = open(filename, mode='rt', encoding='utf-8')\n",
        "\t# read all text\n",
        "\ttext = file.read()\n",
        "\t# close the file\n",
        "\tfile.close()\n",
        "\treturn text\n",
        " \n",
        "# split a loaded document into sentences\n",
        "def to_pairs(doc):\n",
        "\tlines = doc.strip().split('\\n')\n",
        "\tpairs = [line.split('\\t') for line in  lines]\n",
        "\treturn pairs\n",
        " \n",
        "# clean a list of lines\n",
        "def clean_pairs(lines):\n",
        "\tcleaned = list()\n",
        "\tfor pair in lines:\n",
        "\t\tclean_pair = list()\n",
        "\t\tfor line in pair:\n",
        "\t\t\t# tokenize on white space\n",
        "\t\t\tline = line.split()\n",
        "\t\t\t# remove punctuation from each token\n",
        "\t\t\t#line = [c for c in line if not ud.category(c).startswith('P')]\n",
        "\t\t\t# store as string\n",
        "\t\t\tclean_pair.append(' '.join(line))\n",
        "\t\tcleaned.append(clean_pair)\n",
        "\treturn array(cleaned) \n",
        " \n",
        "# save a list of clean sentences to file\n",
        "def save_clean_data(sentences, filename):\n",
        "\tdump(sentences, open(filename, 'wb'))\n",
        "\tprint('Saved: %s' % filename)\n",
        " \n",
        "# load dataset\n",
        "filename = 'output.txt'\n",
        "doc = load_doc(filename)\n",
        "# split into english-german pairs\n",
        "pairs = to_pairs(doc)\n",
        "# clean sentences\n",
        "clean_pairs = clean_pairs(pairs)\n",
        "# save clean pairs to file\n",
        "save_clean_data(clean_pairs, 'msa-to-darija.pkl')\n",
        "# spot check\n",
        "for i in range(20):\n",
        "\tprint('[%s] => [%s]' % (clean_pairs[i,0], clean_pairs[i,1]))"
      ],
      "execution_count": null,
      "outputs": [
        {
          "output_type": "stream",
          "text": [
            "Saved: msa-to-darija.pkl\n",
            "[إنها في أخر القاعة سوف آتي لك ببعض منها الآن إذا أردت أي شيئا آخر فقط أعلمني] => [كاين في اللاخر ديال هاد القاعة. انجيب ليك شويا دابا. و إلا حتاجيتي شي حاجا اخرى، قولها ليا.]\n",
            "[هل تقومون بعمل تعديلات] => [واش كا دير التعديلات؟]\n",
            "[نريد مائدة بجانب النافذة] => [بغينا ناخدو طابلة حدا الشرجم.]\n",
            "[هناك أمام بيانات السائح تماما] => [راه تما، مقابل مكتب استعلامات السياح بالضبط.]\n",
            "[لم اسمع بهذا العنوان من قبل بالقرب من هنا] => [ما عمري سمعت هاد العنوان هنايا.]\n",
            "[استمر في السير في هذا الطريق حتى تجد صيدلية] => [سير نيشان حتا تشوف صيدلية.]\n",
            "[ما هو أحدث لون هذا الموسم] => [شنو هو اجدد لون هاد الموسم؟]\n",
            "[في حالتي غالبا ما يكون من أجل العمل ونادرا ما يكون للاستمتاع] => [في الحالة ديالي، راه غالبا على الخدمة، قليل للمتعة.]\n",
            "[سأقيم لمدة يومين] => [غادي نبقا يومين.]\n",
            "[أريد تمويج متقارب بشعري] => [بغيت بيرمانونت مجهد.]\n",
            "[أريد حجز غرفتين مزدوجتين] => [بغيت نحجز جوج غرف ثنائية.]\n",
            "[لا أريد إزالتها] => [ما بغيتهوش منزوع.]\n",
            "[هل هذه الحافلة تتوقف في شارع أستونر] => [واش كا يحبس هاد الطوبيس في شارع ستونر؟]\n",
            "[من فضلك افتح فمك على مداه] => [حل فمك مزيان عافاك.]\n",
            "[كم تكلفة الإفطار] => [شحال كا يدير الفطور؟]\n",
            "[كيف أستطيع مساعدتك] => [كيفاش نقدر نعاونك؟]\n",
            "[دعنا نأخذ قطعة لنأكلها] => [يالاه ناخدو شي حاجة ناكلوها.]\n",
            "[اتجه يسارا عند الناصية الثالثة] => [مع القنت التالت دور على ليسر.]\n",
            "[هل لك أن تقوم بتنظيف هذه الملابس] => [واخا تغسل هاد لحوايج؟]\n",
            "[أعطيك رقم تليفونه وعنوانه] => [غادي نعطيك رقم التلفون و العنوان ديالو.]\n"
          ],
          "name": "stdout"
        }
      ]
    },
    {
      "cell_type": "code",
      "metadata": {
        "id": "jBTiTToO9hrQ",
        "outputId": "f4f574f8-c0ce-4654-c6e9-eaba9272c4c5",
        "colab": {
          "base_uri": "https://localhost:8080/",
          "height": 68
        }
      },
      "source": [
        "\n",
        "from pickle import load\n",
        "from pickle import dump\n",
        "from numpy.random import rand\n",
        "from numpy.random import shuffle\n",
        " \n",
        "# load a clean dataset\n",
        "def load_clean_sentences(filename):\n",
        "\treturn load(open(filename, 'rb'))\n",
        " \n",
        "# save a list of clean sentences to file\n",
        "def save_clean_data(sentences, filename):\n",
        "\tdump(sentences, open(filename, 'wb'))\n",
        "\tprint('Saved: %s' % filename)\n",
        " \n",
        "# load dataset\n",
        "raw_dataset = load_clean_sentences('msa-to-darija.pkl')\n",
        " \n",
        "# reduce dataset size\n",
        "n_sentences = 8000\n",
        "dataset = raw_dataset[:n_sentences, :]\n",
        "# random shuffle\n",
        "shuffle(dataset)\n",
        "# split into train/test\n",
        "train, test = dataset[:6000], dataset[6000:]\n",
        "# save\n",
        "save_clean_data(dataset, 'msa-to-darija-both.pkl')\n",
        "save_clean_data(train, 'msa-to-darija-train.pkl')\n",
        "save_clean_data(test, 'msa-to-darija-test.pkl')"
      ],
      "execution_count": null,
      "outputs": [
        {
          "output_type": "stream",
          "text": [
            "Saved: msa-to-darija-both.pkl\n",
            "Saved: msa-to-darija-train.pkl\n",
            "Saved: msa-to-darija-test.pkl\n"
          ],
          "name": "stdout"
        }
      ]
    },
    {
      "cell_type": "code",
      "metadata": {
        "id": "nlPkV05uLwfT"
      },
      "source": [
        "# load a clean dataset\n",
        "def load_clean_sentences(filename):\n",
        "\treturn load(open(filename, 'rb'))\n",
        " \n",
        "# load datasets\n",
        "dataset = load_clean_sentences('msa-to-darija-both.pkl')\n",
        "train = load_clean_sentences('msa-to-darija-train.pkl')\n",
        "test = load_clean_sentences('msa-to-darija-test.pkl')"
      ],
      "execution_count": null,
      "outputs": []
    },
    {
      "cell_type": "code",
      "metadata": {
        "id": "wnbCQmGw5gSm"
      },
      "source": [
        "# fit a tokenizer\n",
        "def create_tokenizer(lines):\n",
        "\ttokenizer = Tokenizer()\n",
        "\ttokenizer.fit_on_texts(lines)\n",
        "\treturn tokenizer"
      ],
      "execution_count": null,
      "outputs": []
    },
    {
      "cell_type": "code",
      "metadata": {
        "id": "tefpAIzQMW4n"
      },
      "source": [
        "\n",
        "# max sentence length\n",
        "def max_length(lines):\n",
        "\treturn max(len(line.split()) for line in lines)"
      ],
      "execution_count": null,
      "outputs": []
    },
    {
      "cell_type": "code",
      "metadata": {
        "id": "IKLKsYUIMbzM",
        "outputId": "a13a621d-d64b-471b-b082-fa49527adf30",
        "colab": {
          "base_uri": "https://localhost:8080/",
          "height": 148
        }
      },
      "source": [
        "import os, sys\n",
        "\n",
        "from keras.models import Model\n",
        "from keras.layers import Input, LSTM, GRU, Dense, Embedding\n",
        "from keras.preprocessing.text import Tokenizer\n",
        "from keras.preprocessing.sequence import pad_sequences\n",
        "from keras.utils import to_categorical\n",
        "import numpy as np\n",
        "import matplotlib.pyplot as plt\n",
        "# prepare english tokenizer\n",
        "eng_tokenizer = create_tokenizer(dataset[:, 0])\n",
        "eng_vocab_size = len(eng_tokenizer.word_index) + 1\n",
        "eng_length = max_length(dataset[:, 0])\n",
        "print('msa Vocabulary Size: %d' % eng_vocab_size)\n",
        "print('msa Max Length: %d' % (eng_length))\n",
        "# prepare german tokenizer\n",
        "ger_tokenizer = create_tokenizer(dataset[:, 1])\n",
        "ger_vocab_size = len(ger_tokenizer.word_index) + 1\n",
        "ger_length = max_length(dataset[:, 1])\n",
        "print('darija Vocabulary Size: %d' % ger_vocab_size)\n",
        "print('darija Max Length: %d' % (ger_length))"
      ],
      "execution_count": null,
      "outputs": [
        {
          "output_type": "stream",
          "text": [
            "Using TensorFlow backend.\n"
          ],
          "name": "stderr"
        },
        {
          "output_type": "display_data",
          "data": {
            "text/html": [
              "<p style=\"color: red;\">\n",
              "The default version of TensorFlow in Colab will soon switch to TensorFlow 2.x.<br>\n",
              "We recommend you <a href=\"https://www.tensorflow.org/guide/migrate\" target=\"_blank\">upgrade</a> now \n",
              "or ensure your notebook will continue to use TensorFlow 1.x via the <code>%tensorflow_version 1.x</code> magic:\n",
              "<a href=\"https://colab.research.google.com/notebooks/tensorflow_version.ipynb\" target=\"_blank\">more info</a>.</p>\n"
            ],
            "text/plain": [
              "<IPython.core.display.HTML object>"
            ]
          },
          "metadata": {
            "tags": []
          }
        },
        {
          "output_type": "stream",
          "text": [
            "msa Vocabulary Size: 10614\n",
            "msa Max Length: 50\n",
            "darija Vocabulary Size: 12602\n",
            "darija Max Length: 50\n"
          ],
          "name": "stdout"
        }
      ]
    },
    {
      "cell_type": "code",
      "metadata": {
        "id": "v1z0bkXgNIG2"
      },
      "source": [
        "\n",
        "# encode and pad sequences\n",
        "def encode_sequences(tokenizer, length, lines):\n",
        "\t# integer encode sequences\n",
        "\tX = tokenizer.texts_to_sequences(lines)\n",
        "\t# pad sequences with 0 values\n",
        "\tX = pad_sequences(X, maxlen=length, padding='post')\n",
        "\treturn X"
      ],
      "execution_count": null,
      "outputs": []
    },
    {
      "cell_type": "code",
      "metadata": {
        "id": "2WSSnefANMJU"
      },
      "source": [
        "# one hot encode target sequence\n",
        "def encode_output(sequences, vocab_size):\n",
        "\tylist = list()\n",
        "\tfor sequence in sequences:\n",
        "\t\tencoded = to_categorical(sequence, num_classes=vocab_size)\n",
        "\t\tylist.append(encoded)\n",
        "\ty = np.array(ylist)\n",
        "\ty = y.reshape(sequences.shape[0], sequences.shape[1], vocab_size)\n",
        "\treturn y"
      ],
      "execution_count": null,
      "outputs": []
    },
    {
      "cell_type": "code",
      "metadata": {
        "id": "2m14TlafNRg1"
      },
      "source": [
        "\n",
        "# prepare training data\n",
        "trainX = encode_sequences(ger_tokenizer, ger_length, train[:, 1])\n",
        "trainY = encode_sequences(eng_tokenizer, eng_length, train[:, 0])\n",
        "trainY = encode_output(trainY, eng_vocab_size)\n",
        "# prepare validation data\n",
        "testX = encode_sequences(ger_tokenizer, ger_length, test[:, 1])\n",
        "testY = encode_sequences(eng_tokenizer, eng_length, test[:, 0])\n",
        "testY = encode_output(testY, eng_vocab_size)"
      ],
      "execution_count": null,
      "outputs": []
    },
    {
      "cell_type": "code",
      "metadata": {
        "id": "OWrSejdhQt9e",
        "outputId": "1fbdbcfe-81b8-41d0-db3b-5462f246a6e3",
        "colab": {
          "base_uri": "https://localhost:8080/",
          "height": 1000
        }
      },
      "source": [
        "from numpy import array\n",
        "from keras.preprocessing.text import Tokenizer\n",
        "from keras.preprocessing.sequence import pad_sequences\n",
        "from keras.utils import to_categorical\n",
        "from keras.utils.vis_utils import plot_model\n",
        "from keras.models import Sequential\n",
        "from keras.layers import LSTM\n",
        "from keras.layers import Dense\n",
        "from keras.layers import Embedding\n",
        "from keras.layers import RepeatVector\n",
        "from keras.layers import TimeDistributed\n",
        "from keras.callbacks import ModelCheckpoint\n",
        "def define_model(src_vocab, tar_vocab, src_timesteps, tar_timesteps, n_units):\n",
        "\tmodel = Sequential()\n",
        "\tmodel.add(Embedding(src_vocab, n_units, input_length=src_timesteps, mask_zero=True))\n",
        "\tmodel.add(LSTM(n_units))\n",
        "\tmodel.add(RepeatVector(tar_timesteps))\n",
        "\tmodel.add(LSTM(n_units, return_sequences=True))\n",
        "\tmodel.add(TimeDistributed(Dense(tar_vocab, activation='softmax')))\n",
        "\treturn model\n",
        " \n",
        "# define model\n",
        "model = define_model(ger_vocab_size, eng_vocab_size, ger_length, eng_length, 256)\n",
        "model.compile(optimizer='adam', loss='categorical_crossentropy')\n",
        "# summarize defined model\n",
        "print(model.summary())\n",
        "plot_model(model, to_file='model.png', show_shapes=True)\n",
        "# fit model\n",
        "# fit model\n",
        "filename = 'model.h5'\n",
        "checkpoint = ModelCheckpoint(filename, monitor='val_loss', verbose=1, save_best_only=True, mode='min')\n",
        "model.fit(trainX, trainY, epochs=30, batch_size=64, validation_data=(testX, testY), callbacks=[checkpoint], verbose=2)\n"
      ],
      "execution_count": null,
      "outputs": [
        {
          "output_type": "stream",
          "text": [
            "WARNING:tensorflow:From /usr/local/lib/python3.6/dist-packages/keras/backend/tensorflow_backend.py:66: The name tf.get_default_graph is deprecated. Please use tf.compat.v1.get_default_graph instead.\n",
            "\n",
            "WARNING:tensorflow:From /usr/local/lib/python3.6/dist-packages/keras/backend/tensorflow_backend.py:541: The name tf.placeholder is deprecated. Please use tf.compat.v1.placeholder instead.\n",
            "\n",
            "WARNING:tensorflow:From /usr/local/lib/python3.6/dist-packages/keras/backend/tensorflow_backend.py:4432: The name tf.random_uniform is deprecated. Please use tf.random.uniform instead.\n",
            "\n",
            "WARNING:tensorflow:From /usr/local/lib/python3.6/dist-packages/keras/backend/tensorflow_backend.py:3239: where (from tensorflow.python.ops.array_ops) is deprecated and will be removed in a future version.\n",
            "Instructions for updating:\n",
            "Use tf.where in 2.0, which has the same broadcast rule as np.where\n",
            "WARNING:tensorflow:From /usr/local/lib/python3.6/dist-packages/keras/optimizers.py:793: The name tf.train.Optimizer is deprecated. Please use tf.compat.v1.train.Optimizer instead.\n",
            "\n",
            "WARNING:tensorflow:From /usr/local/lib/python3.6/dist-packages/keras/backend/tensorflow_backend.py:3576: The name tf.log is deprecated. Please use tf.math.log instead.\n",
            "\n",
            "Model: \"sequential_1\"\n",
            "_________________________________________________________________\n",
            "Layer (type)                 Output Shape              Param #   \n",
            "=================================================================\n",
            "embedding_1 (Embedding)      (None, 50, 256)           3226112   \n",
            "_________________________________________________________________\n",
            "lstm_1 (LSTM)                (None, 256)               525312    \n",
            "_________________________________________________________________\n",
            "repeat_vector_1 (RepeatVecto (None, 50, 256)           0         \n",
            "_________________________________________________________________\n",
            "lstm_2 (LSTM)                (None, 50, 256)           525312    \n",
            "_________________________________________________________________\n",
            "time_distributed_1 (TimeDist (None, 50, 10614)         2727798   \n",
            "=================================================================\n",
            "Total params: 7,004,534\n",
            "Trainable params: 7,004,534\n",
            "Non-trainable params: 0\n",
            "_________________________________________________________________\n",
            "None\n",
            "WARNING:tensorflow:From /usr/local/lib/python3.6/dist-packages/keras/backend/tensorflow_backend.py:1033: The name tf.assign_add is deprecated. Please use tf.compat.v1.assign_add instead.\n",
            "\n",
            "WARNING:tensorflow:From /usr/local/lib/python3.6/dist-packages/keras/backend/tensorflow_backend.py:1020: The name tf.assign is deprecated. Please use tf.compat.v1.assign instead.\n",
            "\n",
            "WARNING:tensorflow:From /usr/local/lib/python3.6/dist-packages/keras/backend/tensorflow_backend.py:3005: The name tf.Session is deprecated. Please use tf.compat.v1.Session instead.\n",
            "\n",
            "Train on 6000 samples, validate on 2000 samples\n",
            "Epoch 1/30\n",
            "WARNING:tensorflow:From /usr/local/lib/python3.6/dist-packages/keras/backend/tensorflow_backend.py:190: The name tf.get_default_session is deprecated. Please use tf.compat.v1.get_default_session instead.\n",
            "\n",
            "WARNING:tensorflow:From /usr/local/lib/python3.6/dist-packages/keras/backend/tensorflow_backend.py:197: The name tf.ConfigProto is deprecated. Please use tf.compat.v1.ConfigProto instead.\n",
            "\n",
            "WARNING:tensorflow:From /usr/local/lib/python3.6/dist-packages/keras/backend/tensorflow_backend.py:207: The name tf.global_variables is deprecated. Please use tf.compat.v1.global_variables instead.\n",
            "\n",
            "WARNING:tensorflow:From /usr/local/lib/python3.6/dist-packages/keras/backend/tensorflow_backend.py:216: The name tf.is_variable_initialized is deprecated. Please use tf.compat.v1.is_variable_initialized instead.\n",
            "\n",
            "WARNING:tensorflow:From /usr/local/lib/python3.6/dist-packages/keras/backend/tensorflow_backend.py:223: The name tf.variables_initializer is deprecated. Please use tf.compat.v1.variables_initializer instead.\n",
            "\n",
            " - 41s - loss: 2.4407 - val_loss: 1.2091\n",
            "\n",
            "Epoch 00001: val_loss improved from inf to 1.20913, saving model to model.h5\n",
            "Epoch 2/30\n",
            " - 30s - loss: 1.3480 - val_loss: 1.3539\n",
            "\n",
            "Epoch 00002: val_loss did not improve from 1.20913\n",
            "Epoch 3/30\n",
            " - 30s - loss: 1.2060 - val_loss: 1.1141\n",
            "\n",
            "Epoch 00003: val_loss improved from 1.20913 to 1.11414, saving model to model.h5\n",
            "Epoch 4/30\n",
            " - 30s - loss: 1.0531 - val_loss: 1.1323\n",
            "\n",
            "Epoch 00004: val_loss did not improve from 1.11414\n",
            "Epoch 5/30\n",
            " - 30s - loss: 1.0317 - val_loss: 1.1121\n",
            "\n",
            "Epoch 00005: val_loss improved from 1.11414 to 1.11215, saving model to model.h5\n",
            "Epoch 6/30\n",
            " - 30s - loss: 1.0162 - val_loss: 1.1103\n",
            "\n",
            "Epoch 00006: val_loss improved from 1.11215 to 1.11031, saving model to model.h5\n",
            "Epoch 7/30\n",
            " - 30s - loss: 1.0020 - val_loss: 1.1151\n",
            "\n",
            "Epoch 00007: val_loss did not improve from 1.11031\n",
            "Epoch 8/30\n",
            " - 30s - loss: 0.9911 - val_loss: 1.1221\n",
            "\n",
            "Epoch 00008: val_loss did not improve from 1.11031\n",
            "Epoch 9/30\n",
            " - 30s - loss: 0.9792 - val_loss: 1.1211\n",
            "\n",
            "Epoch 00009: val_loss did not improve from 1.11031\n",
            "Epoch 10/30\n",
            " - 30s - loss: 0.9719 - val_loss: 1.1246\n",
            "\n",
            "Epoch 00010: val_loss did not improve from 1.11031\n",
            "Epoch 11/30\n",
            " - 30s - loss: 0.9632 - val_loss: 1.1269\n",
            "\n",
            "Epoch 00011: val_loss did not improve from 1.11031\n",
            "Epoch 12/30\n",
            " - 30s - loss: 0.9538 - val_loss: 1.1353\n",
            "\n",
            "Epoch 00012: val_loss did not improve from 1.11031\n",
            "Epoch 13/30\n",
            " - 30s - loss: 0.9486 - val_loss: 1.1351\n",
            "\n",
            "Epoch 00013: val_loss did not improve from 1.11031\n",
            "Epoch 14/30\n",
            " - 30s - loss: 0.9483 - val_loss: 1.1340\n",
            "\n",
            "Epoch 00014: val_loss did not improve from 1.11031\n",
            "Epoch 15/30\n",
            " - 30s - loss: 0.9368 - val_loss: 1.1425\n",
            "\n",
            "Epoch 00015: val_loss did not improve from 1.11031\n",
            "Epoch 16/30\n",
            " - 30s - loss: 0.9266 - val_loss: 1.1596\n",
            "\n",
            "Epoch 00016: val_loss did not improve from 1.11031\n",
            "Epoch 17/30\n",
            " - 30s - loss: 0.9201 - val_loss: 1.1520\n",
            "\n",
            "Epoch 00017: val_loss did not improve from 1.11031\n",
            "Epoch 18/30\n",
            " - 30s - loss: 0.9129 - val_loss: 1.1633\n",
            "\n",
            "Epoch 00018: val_loss did not improve from 1.11031\n",
            "Epoch 19/30\n",
            " - 30s - loss: 0.9186 - val_loss: 1.1584\n",
            "\n",
            "Epoch 00019: val_loss did not improve from 1.11031\n",
            "Epoch 20/30\n",
            " - 30s - loss: 0.9054 - val_loss: 1.1601\n",
            "\n",
            "Epoch 00020: val_loss did not improve from 1.11031\n",
            "Epoch 21/30\n",
            " - 30s - loss: 0.8934 - val_loss: 1.1610\n",
            "\n",
            "Epoch 00021: val_loss did not improve from 1.11031\n",
            "Epoch 22/30\n",
            " - 30s - loss: 0.8858 - val_loss: 1.1699\n",
            "\n",
            "Epoch 00022: val_loss did not improve from 1.11031\n",
            "Epoch 23/30\n",
            " - 30s - loss: 0.8764 - val_loss: 1.1742\n",
            "\n",
            "Epoch 00023: val_loss did not improve from 1.11031\n",
            "Epoch 24/30\n",
            " - 30s - loss: 0.8694 - val_loss: 1.1747\n",
            "\n",
            "Epoch 00024: val_loss did not improve from 1.11031\n",
            "Epoch 25/30\n",
            " - 30s - loss: 0.8623 - val_loss: 1.1750\n",
            "\n",
            "Epoch 00025: val_loss did not improve from 1.11031\n",
            "Epoch 26/30\n",
            " - 30s - loss: 0.8533 - val_loss: 1.1712\n",
            "\n",
            "Epoch 00026: val_loss did not improve from 1.11031\n",
            "Epoch 27/30\n",
            " - 30s - loss: 0.8430 - val_loss: 1.1743\n",
            "\n",
            "Epoch 00027: val_loss did not improve from 1.11031\n",
            "Epoch 28/30\n",
            " - 30s - loss: 0.8352 - val_loss: 1.1733\n",
            "\n",
            "Epoch 00028: val_loss did not improve from 1.11031\n",
            "Epoch 29/30\n",
            " - 30s - loss: 0.8244 - val_loss: 1.1762\n",
            "\n",
            "Epoch 00029: val_loss did not improve from 1.11031\n",
            "Epoch 30/30\n",
            " - 30s - loss: 0.8110 - val_loss: 1.1773\n",
            "\n",
            "Epoch 00030: val_loss did not improve from 1.11031\n"
          ],
          "name": "stdout"
        },
        {
          "output_type": "execute_result",
          "data": {
            "text/plain": [
              "<keras.callbacks.History at 0x7f3f58bce710>"
            ]
          },
          "metadata": {
            "tags": []
          },
          "execution_count": 13
        }
      ]
    },
    {
      "cell_type": "code",
      "metadata": {
        "id": "tRF-EvdfTOKD"
      },
      "source": [
        "# load datasets\n",
        "dataset = load_clean_sentences('msa-to-darija-both.pkl')\n",
        "train = load_clean_sentences('msa-to-darija-train.pkl')\n",
        "test = load_clean_sentences('msa-to-darija-test.pkl')\n",
        "# prepare english tokenizer\n",
        "eng_tokenizer = create_tokenizer(dataset[:, 0])\n",
        "eng_vocab_size = len(eng_tokenizer.word_index) + 1\n",
        "eng_length = max_length(dataset[:, 0])\n",
        "# prepare german tokenizer\n",
        "ger_tokenizer = create_tokenizer(dataset[:, 1])\n",
        "ger_vocab_size = len(ger_tokenizer.word_index) + 1\n",
        "ger_length = max_length(dataset[:, 1])\n",
        "# prepare data\n",
        "trainX = encode_sequences(ger_tokenizer, ger_length, train[:, 1])\n",
        "testX = encode_sequences(ger_tokenizer, ger_length, test[:, 1])"
      ],
      "execution_count": null,
      "outputs": []
    },
    {
      "cell_type": "code",
      "metadata": {
        "id": "u_DQSDbETTyB"
      },
      "source": [
        "from pickle import load\n",
        "from numpy import array\n",
        "from numpy import argmax\n",
        "from keras.preprocessing.text import Tokenizer\n",
        "from keras.preprocessing.sequence import pad_sequences\n",
        "from keras.models import load_model\n",
        "from nltk.translate.bleu_score import corpus_bleu\n",
        "# load model\n",
        "model = load_model('model.h5')"
      ],
      "execution_count": null,
      "outputs": []
    },
    {
      "cell_type": "code",
      "metadata": {
        "id": "gCAyJW8RTXq3"
      },
      "source": [
        "# map an integer to a word\n",
        "def word_for_id(integer, tokenizer):\n",
        "\tfor word, index in tokenizer.word_index.items():\n",
        "\t\tif index == integer:\n",
        "\t\t\treturn word\n",
        "\treturn None"
      ],
      "execution_count": null,
      "outputs": []
    },
    {
      "cell_type": "code",
      "metadata": {
        "id": "iZKhsZ3NVnCm"
      },
      "source": [
        "def predict_sequence(model, tokenizer, source):\n",
        "\tprediction = model.predict(source, verbose=0)[0]\n",
        "\tintegers = [argmax(vector) for vector in prediction]\n",
        "\ttarget = list()\n",
        "\tfor i in integers:\n",
        "\t\tword = word_for_id(i, tokenizer)\n",
        "\t\tif word is None:\n",
        "\t\t\tbreak\n",
        "\t\ttarget.append(word)\n",
        "\treturn ' '.join(target)"
      ],
      "execution_count": null,
      "outputs": []
    },
    {
      "cell_type": "code",
      "metadata": {
        "id": "MzpH76lVV_gk"
      },
      "source": [
        "def evaluate_model(model, tokenizer, sources, raw_dataset):\n",
        "\tactual, predicted = list(), list()\n",
        "\tfor i, source in enumerate(sources):\n",
        "\t\t# translate encoded source text\n",
        "\t\tsource = source.reshape((1, source.shape[0]))\n",
        "\t\ttranslation = predict_sequence(model, eng_tokenizer, source)\n",
        "\t\traw_target, raw_src = raw_dataset[i]\n",
        "\t\tif i < 10:\n",
        "\t\t\tprint('src=[%s], target=[%s], predicted=[%s]' % (raw_src, raw_target, translation))\n",
        "\t\tactual.append([raw_target.split()])\n",
        "\t\tpredicted.append(translation.split())\n",
        "\t# calculate BLEU score\n",
        "\tprint('BLEU-1: %f' % corpus_bleu(actual, predicted, weights=(1.0, 0, 0, 0)))\n",
        "\tprint('BLEU-2: %f' % corpus_bleu(actual, predicted, weights=(0.5, 0.5, 0, 0)))\n",
        "\tprint('BLEU-3: %f' % corpus_bleu(actual, predicted, weights=(0.3, 0.3, 0.3, 0)))\n",
        "\tprint('BLEU-4: %f' % corpus_bleu(actual, predicted, weights=(0.25, 0.25, 0.25, 0.25)))"
      ],
      "execution_count": null,
      "outputs": []
    },
    {
      "cell_type": "code",
      "metadata": {
        "id": "mR1YDiBRWesO",
        "outputId": "8c30d078-78ae-40e8-f45b-0967b7c2875b",
        "colab": {
          "base_uri": "https://localhost:8080/",
          "height": 615
        }
      },
      "source": [
        "from pickle import load\n",
        "from numpy import array\n",
        "from numpy import argmax\n",
        "from keras.preprocessing.text import Tokenizer\n",
        "from keras.preprocessing.sequence import pad_sequences\n",
        "from keras.models import load_model\n",
        "from nltk.translate.bleu_score import corpus_bleu\n",
        " \n",
        "# load a clean dataset\n",
        "def load_clean_sentences(filename):\n",
        "\treturn load(open(filename, 'rb'))\n",
        " \n",
        "# fit a tokenizer\n",
        "def create_tokenizer(lines):\n",
        "\ttokenizer = Tokenizer()\n",
        "\ttokenizer.fit_on_texts(lines)\n",
        "\treturn tokenizer\n",
        " \n",
        "# max sentence length\n",
        "def max_length(lines):\n",
        "\treturn max(len(line.split()) for line in lines)\n",
        " \n",
        "# encode and pad sequences\n",
        "def encode_sequences(tokenizer, length, lines):\n",
        "\t# integer encode sequences\n",
        "\tX = tokenizer.texts_to_sequences(lines)\n",
        "\t# pad sequences with 0 values\n",
        "\tX = pad_sequences(X, maxlen=length, padding='post')\n",
        "\treturn X\n",
        " \n",
        "# map an integer to a word\n",
        "def word_for_id(integer, tokenizer):\n",
        "\tfor word, index in tokenizer.word_index.items():\n",
        "\t\tif index == integer:\n",
        "\t\t\treturn word\n",
        "\treturn None\n",
        " \n",
        "# generate target given source sequence\n",
        "def predict_sequence(model, tokenizer, source):\n",
        "\tprediction = model.predict(source, verbose=0)[0]\n",
        "\tintegers = [argmax(vector) for vector in prediction]\n",
        "\ttarget = list()\n",
        "\tfor i in integers:\n",
        "\t\tword = word_for_id(i, tokenizer)\n",
        "\t\tif word is None:\n",
        "\t\t\tbreak\n",
        "\t\ttarget.append(word)\n",
        "\treturn ' '.join(target)\n",
        " \n",
        "# evaluate the skill of the model\n",
        "def evaluate_model(model, tokenizer, sources, raw_dataset):\n",
        "\tactual, predicted = list(), list()\n",
        "\tfor i, source in enumerate(sources):\n",
        "\t\t# translate encoded source text\n",
        "\t\tsource = source.reshape((1, source.shape[0]))\n",
        "\t\ttranslation = predict_sequence(model, eng_tokenizer, source)\n",
        "\t\traw_target, raw_src = raw_dataset[i]\n",
        "\t\tif i < 10:\n",
        "\t\t\tprint('src=[%s], target=[%s], predicted=[%s]' % (raw_src, raw_target, translation))\n",
        "\t\tactual.append([raw_target.split()])\n",
        "\t\tpredicted.append(translation.split())\n",
        "\t# calculate BLEU score\n",
        "\tprint('BLEU-1: %f' % corpus_bleu(actual, predicted, weights=(1.0, 0, 0, 0)))\n",
        "\tprint('BLEU-2: %f' % corpus_bleu(actual, predicted, weights=(0.5, 0.5, 0, 0)))\n",
        "\tprint('BLEU-3: %f' % corpus_bleu(actual, predicted, weights=(0.3, 0.3, 0.3, 0)))\n",
        "\tprint('BLEU-4: %f' % corpus_bleu(actual, predicted, weights=(0.25, 0.25, 0.25, 0.25)))\n",
        " \n",
        "# load datasets\n",
        "dataset = load_clean_sentences('msa-to-darija-both.pkl')\n",
        "train = load_clean_sentences('msa-to-darija-train.pkl')\n",
        "test = load_clean_sentences('msa-to-darija-test.pkl')\n",
        "# prepare english tokenizer\n",
        "eng_tokenizer = create_tokenizer(dataset[:, 0])\n",
        "eng_vocab_size = len(eng_tokenizer.word_index) + 1\n",
        "eng_length = max_length(dataset[:, 0])\n",
        "# prepare german tokenizer\n",
        "ger_tokenizer = create_tokenizer(dataset[:, 1])\n",
        "ger_vocab_size = len(ger_tokenizer.word_index) + 1\n",
        "ger_length = max_length(dataset[:, 1])\n",
        "# prepare data\n",
        "trainX = encode_sequences(ger_tokenizer, ger_length, train[:, 1])\n",
        "testX = encode_sequences(ger_tokenizer, ger_length, test[:, 1])\n",
        " \n",
        "# load model\n",
        "model = load_model('model.h5')\n",
        "# test on some training sequences\n",
        "print('train')\n",
        "evaluate_model(model, eng_tokenizer, trainX, train)\n",
        "# test on some test sequences\n",
        "print('test')\n",
        "evaluate_model(model, eng_tokenizer, testX, test)"
      ],
      "execution_count": null,
      "outputs": [
        {
          "output_type": "stream",
          "text": [
            "train\n",
            "src=[شي وجبة خفيفة، عافاك.], target=[وجبة خفيفة من فضلك], predicted=[هل أن]\n",
            "src=[سمحلي، بغيت ن آنيلي الريزيرفاسيو ديالي.], target=[أنا آسف ولكنني أريد أن ألغي الحجز], predicted=[هل هل أن]\n",
            "src=[التلج كايرجع الطريق كاتزلق.], target=[الثلج يجعل الطريق زلق], predicted=[هل هل أن]\n",
            "src=[يالاه، جري.], target=[هيا أسرع], predicted=[هل هل]\n",
            "src=[من إينا سكة كا يخرج التران لي غادي ل ميلانو؟], target=[أي رصيف يغادر منه القطار المتجهة إلى ميلان], predicted=[هل هل أن أن]\n",
            "src=[علاش كاتفيق بكري كل صباح؟], target=[لماذا تستيقظ مبكرا كل صباح], predicted=[هل هل أن]\n",
            "src=[غادي ناخد واحد احمر و واحد ابيض.], target=[سآخذ واحدة حمراء وواحدة بيضاء], predicted=[هل هل أن]\n",
            "src=[قطعو من لا كارط ديالي، عفاك. ماستر كارط.], target=[اخصم تكلفتها من بطاقة ائتماني من فضلك ونوعها ماستر كارد], predicted=[هل هل أن أن]\n",
            "src=[بالصح.], target=[حسنا], predicted=[هل هل]\n",
            "src=[باقي عاقل على الشفار؟], target=[هل تتذكر ملامح السارق], predicted=[هل هل]\n"
          ],
          "name": "stdout"
        },
        {
          "output_type": "stream",
          "text": [
            "/usr/local/lib/python3.6/dist-packages/nltk/translate/bleu_score.py:490: UserWarning: \n",
            "Corpus/Sentence contains 0 counts of 2-gram overlaps.\n",
            "BLEU scores might be undesirable; use SmoothingFunction().\n",
            "  warnings.warn(_msg)\n"
          ],
          "name": "stderr"
        },
        {
          "output_type": "stream",
          "text": [
            "BLEU-1: 0.037716\n",
            "BLEU-2: 0.105221\n",
            "BLEU-3: 0.158611\n",
            "BLEU-4: 0.175748\n",
            "test\n",
            "src=[خاصني نبدل معا لفول رقم مياو تلاتة و عشرين.], target=[أتصل على التردد الصوتي واحد اثنان ثلاثة], predicted=[هل هل أن أن أن]\n",
            "src=[فين يمكن ليا ناخد الطوبيس للمحطة الطرقية دالمدينة؟], target=[أين يمكن أن اركب الحافلة إلى موقف المدينة العمومي], predicted=[هل هل أن أن]\n",
            "src=[واش غادي نوصلو في الوقت؟], target=[هل سنصل في الموعد], predicted=[هل هل أن]\n",
            "src=[عادة هو خمسة وتلاتين دولار بلحاق اليوم كاين تخفيض ديال خمسة وعشرين فالمية إذن هو غير ستة وعشرين دولار وخمسة وعشرين سنت.], target=[إن ثمنها في المعتاد خمسة وثلاثون دولارا أما اليوم فثمة تخفيض قدره خمسة وعشرون في المائة ليتوقف ثمنها عند ستة وعشرين دولارا وخمسة وعشرين سنتا], predicted=[هل هل أن أن أن أن]\n",
            "src=[راه كاين على اليمين.], target=[إنه هناك على الجانب الأيمن], predicted=[هل هل]\n",
            "src=[لسوء الحظ، الغرف الفردية كلها محجوزة. بلحاق باقي لينا شي غرف مزدوجة.], target=[لسوء الحظ كل الغرف المفردة محجوزة ولكن لا يزال لدينا بضعة غرف مزدوجة], predicted=[هل هل أن أن أن]\n",
            "src=[واخا دير ليا بابيي كادو؟], target=[هل لك أن تغلف هذه كالهدية], predicted=[هل هل أن]\n",
            "src=[كاش ولا بلاكارط؟], target=[نقدا أم على بطاقة الائتمان], predicted=[هل هل]\n",
            "src=[ياللاه نمشيو للمطعم فطاكسي.], target=[لنذهب إلى المطعم بسيارة الأجرة], predicted=[هل هل أن]\n",
            "src=[كاين البرد هاد الليلة.], target=[الليلة قارسة البرد], predicted=[هل هل]\n",
            "BLEU-1: 0.038211\n",
            "BLEU-2: 0.108327\n",
            "BLEU-3: 0.164345\n",
            "BLEU-4: 0.182395\n"
          ],
          "name": "stdout"
        }
      ]
    }
  ]
}